{
 "cells": [
  {
   "cell_type": "markdown",
   "metadata": {},
   "source": [
    "# Linear Regression Practice\n",
    "\n",
    "For this morning's practice, we'll be revisiting the Boston dataset to create a linear regression model that models the `MEDV` - Median value of owner-occupied homes in $1000's.\n",
    "\n",
    "The only requirement is that the linear regression model is statistically valid such that any interpretation of coefficients are valid\n",
    "\n",
    "* Features must not violate the assumptions of a linear regression (multicollinearity, linear with respect to the outcome variable, errors are normally distributed, etc.)\n",
    "\n",
    "* Try to maximize R<sup>2</sup> _without breaking any assumptions_\n",
    "\n",
    "Feel free to use either `sklearn` or `statsmodels` to generate the model."
   ]
  },
  {
   "cell_type": "code",
   "execution_count": null,
   "metadata": {},
   "outputs": [],
   "source": [
    "import pandas as pd\n",
    "from sklearn.datasets import load_boston"
   ]
  },
  {
   "cell_type": "code",
   "execution_count": null,
   "metadata": {},
   "outputs": [],
   "source": []
  }
 ],
 "metadata": {
  "kernelspec": {
   "display_name": "learn-env",
   "language": "python",
   "name": "learn-env"
  },
  "language_info": {
   "codemirror_mode": {
    "name": "ipython",
    "version": 3
   },
   "file_extension": ".py",
   "mimetype": "text/x-python",
   "name": "python",
   "nbconvert_exporter": "python",
   "pygments_lexer": "ipython3",
   "version": "3.6.9"
  }
 },
 "nbformat": 4,
 "nbformat_minor": 4
}
